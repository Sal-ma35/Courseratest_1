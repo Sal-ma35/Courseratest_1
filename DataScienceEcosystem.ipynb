{
 "cells": [
  {
   "cell_type": "markdown",
   "id": "7478c475",
   "metadata": {},
   "source": [
    "# Data Science Tools and Ecosystem"
   ]
  },
  {
   "cell_type": "markdown",
   "id": "caaae5a8",
   "metadata": {},
   "source": [
    "### In this notebook, data science tools and ecosystems are summarized"
   ]
  },
  {
   "cell_type": "markdown",
   "id": "dbff75fc",
   "metadata": {},
   "source": [
    "\n",
    "__Objectives:__\n",
    "- List popular data science languages\n",
    "- List commonly used libraries for data science\n",
    "- Create a table \n",
    "- Create an ordered list"
   ]
  },
  {
   "cell_type": "markdown",
   "id": "fd26f2b9",
   "metadata": {},
   "source": [
    "### Some of the popular languages that Data Scientists use are:\n",
    "1. Python\n",
    "2. R\n",
    "3. Julia\n",
    "4. SQL"
   ]
  },
  {
   "cell_type": "markdown",
   "id": "5abb7198",
   "metadata": {},
   "source": [
    "### Some of the commonly used libraries used by data scientists include:\n",
    "1. Pandas\n",
    "2. ggplot2\n",
    "3. Numpy\n",
    "4. Caret"
   ]
  },
  {
   "cell_type": "markdown",
   "id": "253831f4",
   "metadata": {},
   "source": [
    "|Data Science Tools|\n",
    "|------------------|\n",
    "|Jupyter Notebook|\n",
    "|RStudio         |\n",
    "|VScode          |"
   ]
  },
  {
   "cell_type": "markdown",
   "id": "50b1619b",
   "metadata": {},
   "source": [
    "### Below are a few examples of evaluating arithmetic expressions in python"
   ]
  },
  {
   "cell_type": "code",
   "execution_count": 1,
   "id": "dd0024b9",
   "metadata": {},
   "outputs": [
    {
     "data": {
      "text/plain": [
       "17"
      ]
     },
     "execution_count": 1,
     "metadata": {},
     "output_type": "execute_result"
    }
   ],
   "source": [
    "#This is a simple arithmetic operation to multiply then add integers\n",
    "(3*4)+5"
   ]
  },
  {
   "cell_type": "code",
   "execution_count": 4,
   "id": "9bceb06f",
   "metadata": {},
   "outputs": [
    {
     "name": "stdout",
     "output_type": "stream",
     "text": [
      "200 minutes is equal to 3 hours and 20 minutes.\n"
     ]
    }
   ],
   "source": [
    "#This will convert 200 minutes to hours by dividing by 6o\n",
    "minutes= 200\n",
    "#calculate hours and minutes left\n",
    "hours = minutes//60\n",
    "remaining_minutes= minutes % 60\n",
    "\n",
    "print(f\"{minutes} minutes is equal to {hours} hours and {remaining_minutes} minutes.\")"
   ]
  },
  {
   "cell_type": "markdown",
   "id": "6636178b",
   "metadata": {},
   "source": [
    "## Author\n",
    "Salma Sumaila"
   ]
  },
  {
   "cell_type": "code",
   "execution_count": null,
   "id": "1696f320",
   "metadata": {},
   "outputs": [],
   "source": []
  }
 ],
 "metadata": {
  "kernelspec": {
   "display_name": "Python 3 (ipykernel)",
   "language": "python",
   "name": "python3"
  },
  "language_info": {
   "codemirror_mode": {
    "name": "ipython",
    "version": 3
   },
   "file_extension": ".py",
   "mimetype": "text/x-python",
   "name": "python",
   "nbconvert_exporter": "python",
   "pygments_lexer": "ipython3",
   "version": "3.11.5"
  }
 },
 "nbformat": 4,
 "nbformat_minor": 5
}
